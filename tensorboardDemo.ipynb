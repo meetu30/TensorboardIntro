{
 "cells": [
  {
   "cell_type": "code",
   "execution_count": 6,
   "id": "a4ff838d",
   "metadata": {},
   "outputs": [],
   "source": [
    "#pip install tensorflow\n",
    "#pip install torch\n",
    "\n",
    "import tensorflow as tf\n",
    "import datetime\n",
    "import torch\n",
    "\n",
    "from torch.utils.tensorboard import SummaryWriter\n"
   ]
  },
  {
   "cell_type": "code",
   "execution_count": 7,
   "id": "76a7ca91",
   "metadata": {},
   "outputs": [],
   "source": [
    "#pip install tensorflow\n",
    "#pip install torch"
   ]
  },
  {
   "cell_type": "code",
   "execution_count": 8,
   "id": "3b3cf498",
   "metadata": {},
   "outputs": [],
   "source": [
    "# Load the TensorBoard notebook extension\n",
    "%load_ext tensorboard"
   ]
  },
  {
   "cell_type": "code",
   "execution_count": 9,
   "id": "8c6e9600",
   "metadata": {},
   "outputs": [],
   "source": [
    "writer = SummaryWriter(log_dir='log/runs')\n",
    "x = range(10)\n",
    "for i in x:\n",
    "    writer.add_scalar('y=100x', i * 100, i)  #model 1 = y=100x\n",
    "writer.close()"
   ]
  },
  {
   "cell_type": "code",
   "execution_count": 16,
   "id": "aaaa06b1",
   "metadata": {},
   "outputs": [],
   "source": [
    "x = range(10)\n",
    "for i in x:\n",
    "    writer.add_scalar('y=5x', i * 5, i) #model 2 = y=5x\n",
    "writer.close()"
   ]
  },
  {
   "cell_type": "code",
   "execution_count": 17,
   "id": "06c10f42",
   "metadata": {},
   "outputs": [
    {
     "data": {
      "text/plain": [
       "Reusing TensorBoard on port 6006 (pid 19580), started 0:59:11 ago. (Use '!kill 19580' to kill it.)"
      ]
     },
     "metadata": {},
     "output_type": "display_data"
    },
    {
     "data": {
      "text/html": [
       "\n",
       "      <iframe id=\"tensorboard-frame-40695342841c364d\" width=\"100%\" height=\"800\" frameborder=\"0\">\n",
       "      </iframe>\n",
       "      <script>\n",
       "        (function() {\n",
       "          const frame = document.getElementById(\"tensorboard-frame-40695342841c364d\");\n",
       "          const url = new URL(\"/\", window.location);\n",
       "          const port = 6006;\n",
       "          if (port) {\n",
       "            url.port = port;\n",
       "          }\n",
       "          frame.src = url;\n",
       "        })();\n",
       "      </script>\n",
       "    "
      ],
      "text/plain": [
       "<IPython.core.display.HTML object>"
      ]
     },
     "metadata": {},
     "output_type": "display_data"
    }
   ],
   "source": [
    "# launch the tensorboard to see visuals. You can filter the model in search bar to check respective results  \n",
    "%tensorboard --logdir log/runs"
   ]
  },
  {
   "cell_type": "code",
   "execution_count": 11,
   "id": "43b02bb2",
   "metadata": {},
   "outputs": [
    {
     "name": "stdout",
     "output_type": "stream",
     "text": [
      "Downloading data from https://storage.googleapis.com/tensorflow/tf-keras-datasets/mnist.npz\n",
      "11490434/11490434 [==============================] - 0s 0us/step\n"
     ]
    }
   ],
   "source": [
    "# MNIST dataset using Keras\n",
    "mnist = tf.keras.datasets.mnist\n",
    "\n",
    "(x_train, y_train),(x_test, y_test) = mnist.load_data()\n",
    "x_train, x_test = x_train / 255.0, x_test / 255.0\n",
    "\n",
    "def create_model():\n",
    "  return tf.keras.models.Sequential([\n",
    "    tf.keras.layers.Flatten(input_shape=(28, 28), name='layers_flatten'),\n",
    "    tf.keras.layers.Dense(512, activation='relu', name='layers_dense'),\n",
    "    tf.keras.layers.Dropout(0.2, name='layers_dropout'),\n",
    "    tf.keras.layers.Dense(10, activation='softmax', name='layers_dense_2')\n",
    "  ])"
   ]
  },
  {
   "cell_type": "code",
   "execution_count": 18,
   "id": "ab381668",
   "metadata": {},
   "outputs": [
    {
     "name": "stdout",
     "output_type": "stream",
     "text": [
      "Epoch 1/7\n",
      "1875/1875 [==============================] - 15s 8ms/step - loss: 0.2181 - accuracy: 0.9352 - val_loss: 0.1076 - val_accuracy: 0.9669\n",
      "Epoch 2/7\n",
      "1875/1875 [==============================] - 17s 9ms/step - loss: 0.0955 - accuracy: 0.9714 - val_loss: 0.0835 - val_accuracy: 0.9739\n",
      "Epoch 3/7\n",
      "1875/1875 [==============================] - 18s 10ms/step - loss: 0.0686 - accuracy: 0.9783 - val_loss: 0.0695 - val_accuracy: 0.9788\n",
      "Epoch 4/7\n",
      "1875/1875 [==============================] - 18s 10ms/step - loss: 0.0528 - accuracy: 0.9826 - val_loss: 0.0741 - val_accuracy: 0.9769\n",
      "Epoch 5/7\n",
      "1875/1875 [==============================] - 20s 10ms/step - loss: 0.0445 - accuracy: 0.9856 - val_loss: 0.0714 - val_accuracy: 0.9768\n",
      "Epoch 6/7\n",
      "1875/1875 [==============================] - 18s 9ms/step - loss: 0.0360 - accuracy: 0.9884 - val_loss: 0.0666 - val_accuracy: 0.9809\n",
      "Epoch 7/7\n",
      "1875/1875 [==============================] - 19s 10ms/step - loss: 0.0303 - accuracy: 0.9903 - val_loss: 0.0714 - val_accuracy: 0.9798\n"
     ]
    },
    {
     "data": {
      "text/plain": [
       "<keras.callbacks.History at 0x2533538cf90>"
      ]
     },
     "execution_count": 18,
     "metadata": {},
     "output_type": "execute_result"
    }
   ],
   "source": [
    "model = create_model()\n",
    "model.compile(optimizer='adam',\n",
    "              loss='sparse_categorical_crossentropy',\n",
    "              metrics=['accuracy'])\n",
    "\n",
    "#log_dir = \"log/fit/\" + datetime.datetime.now().strftime(\"%Y%m%d-%H%M%S\")\n",
    "log_dir='log/runs'\n",
    "tensorboard_callback = tf.keras.callbacks.TensorBoard(log_dir=log_dir, histogram_freq=1)\n",
    "\n",
    "model.fit(x=x_train, \n",
    "          y=y_train, \n",
    "          epochs=7, \n",
    "          validation_data=(x_test, y_test), \n",
    "          callbacks=[tensorboard_callback])"
   ]
  },
  {
   "cell_type": "markdown",
   "id": "b44a86ac",
   "metadata": {},
   "source": [
    "Scalars show how the loss and metrics change with every epoch.\n",
    "\n",
    "Graphs help you visualize your model.\n",
    "\n",
    "Histograms and Distributions show the distribution of a Tensor over time. This can be useful to visualize weights and biases and verify that they are changing in an expected way. -First, you have 3 axes; time (x-axis), value (y-axis) and frequency/density of values (z-axis). Darker histograms represent older data and lighter histograms represent newer data. A higher value on the z axis means that the vector contains more values near that specific value.\n",
    "\n",
    "-The distribution view is a top view of the histogram view.\n",
    "\n",
    "-By default, TensorBoard displays the op-level graph, which is inverted; data flows from bottom to top, so it’s upside down compared to the code.\n",
    "Graphs are often very large, so you can manipulate the graph visualization:\n",
    "\n",
    "-Scroll to zoom in and out\n",
    "-Drag to pan\n",
    "-Double clicking toggles node expansion (a node can be a container for other nodes)\n",
    "-You can also see metadata by clicking on a node. This allows you to see inputs, outputs, shapes and other details."
   ]
  },
  {
   "cell_type": "code",
   "execution_count": 15,
   "id": "402c493a",
   "metadata": {},
   "outputs": [
    {
     "data": {
      "text/html": [
       "\n",
       "      <iframe id=\"tensorboard-frame-eeeb4f874a7c8e15\" width=\"100%\" height=\"800\" frameborder=\"0\">\n",
       "      </iframe>\n",
       "      <script>\n",
       "        (function() {\n",
       "          const frame = document.getElementById(\"tensorboard-frame-eeeb4f874a7c8e15\");\n",
       "          const url = new URL(\"/\", window.location);\n",
       "          const port = 6006;\n",
       "          if (port) {\n",
       "            url.port = port;\n",
       "          }\n",
       "          frame.src = url;\n",
       "        })();\n",
       "      </script>\n",
       "    "
      ],
      "text/plain": [
       "<IPython.core.display.HTML object>"
      ]
     },
     "metadata": {},
     "output_type": "display_data"
    }
   ],
   "source": [
    "#to run this successfully, The extension needs to be loaded first by running this cmd - %load_ext tensorboard\n",
    "\n",
    "\n",
    "%tensorboard --logdir log/runs"
   ]
  },
  {
   "cell_type": "code",
   "execution_count": null,
   "id": "099d1a11",
   "metadata": {},
   "outputs": [],
   "source": []
  }
 ],
 "metadata": {
  "kernelspec": {
   "display_name": "Python 3 (ipykernel)",
   "language": "python",
   "name": "python3"
  },
  "language_info": {
   "codemirror_mode": {
    "name": "ipython",
    "version": 3
   },
   "file_extension": ".py",
   "mimetype": "text/x-python",
   "name": "python",
   "nbconvert_exporter": "python",
   "pygments_lexer": "ipython3",
   "version": "3.11.2"
  }
 },
 "nbformat": 4,
 "nbformat_minor": 5
}
